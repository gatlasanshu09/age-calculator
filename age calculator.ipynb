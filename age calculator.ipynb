{
 "cells": [
  {
   "cell_type": "code",
   "execution_count": null,
   "id": "b5dd6db9",
   "metadata": {},
   "outputs": [],
   "source": [
    "import datetime\n"
   ]
  },
  {
   "cell_type": "code",
   "execution_count": null,
   "id": "14125ff3",
   "metadata": {},
   "outputs": [],
   "source": [
    "def generate_times(start_date, end_date):\n",
    "    times = []\n",
    "    current_date = start_date\n",
    "\n",
    "    while current_date <= end_date:\n",
    "        times.append(current_date)\n",
    "        current_date += datetime.timedelta(minutes=1)\n",
    "\n",
    "    return times\n",
    "\n",
    "start_date = datetime.datetime(2023, 1, 1, 0, 0)\n",
    "end_date = datetime.datetime(2023, 1, 1, 0, 10)\n",
    "\n",
    "all_times = generate_times(start_date, end_date)\n",
    "print(all_times)"
   ]
  }
 ],
 "metadata": {
  "kernelspec": {
   "display_name": "Python 3 (ipykernel)",
   "language": "python",
   "name": "python3"
  },
  "language_info": {
   "codemirror_mode": {
    "name": "ipython",
    "version": 3
   },
   "file_extension": ".py",
   "mimetype": "text/x-python",
   "name": "python",
   "nbconvert_exporter": "python",
   "pygments_lexer": "ipython3",
   "version": "3.11.5"
  }
 },
 "nbformat": 4,
 "nbformat_minor": 5
}
